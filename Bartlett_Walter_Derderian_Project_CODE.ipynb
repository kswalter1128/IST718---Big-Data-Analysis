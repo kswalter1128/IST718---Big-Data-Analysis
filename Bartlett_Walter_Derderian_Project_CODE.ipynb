{
 "cells": [
  {
   "cell_type": "markdown",
   "id": "b7097e09",
   "metadata": {},
   "source": [
    "### FDA Adverse Drug event analysis\n",
    "- Data collected via https://open.fda.gov/data/faers/\n",
    "- Data cleaned and aggregated via SingleDataFrame.ipynb\n",
    "- Initial requests explored via Example of API Requests.ipynb\n",
    "\n",
    "Authors:\n",
    "John Bartlett\n",
    "Kyle Walter\n",
    "Assadour Derderian\n",
    "\n",
    "       this first cell does not run as part of our analysis, it is just us testing limitations of the FDA API."
   ]
  },
  {
   "cell_type": "code",
   "execution_count": null,
   "id": "88d619a2",
   "metadata": {
    "pycharm": {
     "name": "#%%\n"
    }
   },
   "outputs": [],
   "source": [
    "# imports\n",
    "import pandas as pd\n",
    "import numpy as np\n",
    "import json\n",
    "import simplejson\n",
    "from operator import itemgetter\n",
    "import datetime\n",
    "import requests\n",
    "from flatten import flatten\n",
    "\n",
    "# visualization imports\n",
    "import matplotlib.pyplot as plt\n",
    "\n",
    "# basic request / pull 1000 records from public api place in a data frame\n",
    "testurl = 'https://api.fda.gov/drug/event.json?api_key=Tdpd5uUfE3AE6732OwcYkLsm8orfs72kehAz0nRA&limit=1000&search=patient.drug.medicinalproduct.exact:ADVIL'\n",
    "data = requests.get(testurl).json()\n",
    "data_dict = data['results']\n",
    "\n",
    "# create DF\n",
    "df = pd.json_normalize(data_dict, max_level=None, errors='ignore')\n",
    "\n",
    "# works\n",
    "df.head(10)\n",
    "df.info\n",
    "# clean the example data frame from above\n",
    "\n",
    "# remove ugly non usable data this is eiter redundant data or not usable for visualization or modeling\n",
    "df = df.drop(columns=['reporttype', 'safetyreportversion', 'receivedateformat', 'transmissiondateformat',\n",
    "                      'fulfillexpeditecriteria', 'receiptdateformat', 'duplicate', 'receivedate', 'transmissiondate',\n",
    "                      'primarysource.reportercountry', 'reportduplicate.duplicatenumb', 'receiver.receivertype',\n",
    "                      'receiver.receiverorganization', 'sender.sendertype', 'sender.senderorganization',\n",
    "                      'patient.summary.narrativeincludeclinical', 'primarysource.literaturereference'])\n",
    "\n",
    "# these columns will be dropped because the resulting data will be normalized into 2 additional data frames\n",
    "df = df.drop(columns=['patient.reaction', 'patient.drug'])\n",
    "# works\n",
    "df.head(10)\n",
    "df.info\n",
    "\n",
    "# now we need to expand 2 of the embedded json columns. normalize / flatten\n",
    "# patient.reaction and patient.drug\n",
    "# there is a lot of embedded lists / dictionaries in this json\n",
    "# data_dict = data['results'] is a list of dictionaries\n",
    "# create a meta data frame on reaction info\n",
    "\n",
    "# we will need to use the columns from our previous dataframe as the meta for normalizing the resulting dfs\n",
    "meta = list(df.columns)\n",
    "# remove the dictionary entries that are lists or dictionaries\n",
    "# found this out with trial and error\n",
    "# this is too messy, we can just join resulting data frames\n",
    "\n",
    "# create a meta dataframe on reaction info\n",
    "df2 = pd.json_normalize(data=data_dict, record_path=['patient', 'reaction'], meta=meta,\n",
    "                        max_level=None, errors='ignore')\n",
    "\n",
    "df2.head(10)\n",
    "df2.info\n",
    "# create a meta dataframe on drug info\n",
    "df3 = pd.json_normalize(data=data_dict, record_path=['patient', 'drug'], meta=['safetyreportid'],\n",
    "                        max_level=None, errors='ignore')\n",
    "\n",
    "# drug info needs cleanup\n",
    "df3 = df3.drop(columns=['drugcharacterization', 'drugbatchnumb', 'drugauthorizationnumb',\n",
    "                        'drugstartdateformat', 'drugstartdate', 'drugenddateformat',\n",
    "                        'drugenddate', 'actiondrug', 'openfda.brand_name', 'openfda.generic_name',\n",
    "                        'openfda.manufacturer_name', 'openfda.product_ndc', 'openfda.product_type',\n",
    "                        'openfda.rxcui', 'openfda.spl_id', 'openfda.spl_set_id',\n",
    "                        'openfda.package_ndc', 'openfda.route', 'openfda.substance_name',\n",
    "                        'openfda.unii', 'openfda.nui', 'openfda.pharm_class_moa',\n",
    "                        'openfda.pharm_class_cs', 'openfda.pharm_class_epc', 'openfda.application_number',\n",
    "                        'drugcumulativedosagenumb', 'drugcumulativedosageunit', 'drugdosagetext',\n",
    "                        'drugadministrationroute', 'activesubstance.activesubstancename',\n",
    "                        'openfda.pharm_class_pe', 'drugrecurreadministration', 'drugadditional'])\n",
    "df3.head(10)\n",
    "df3.info\n",
    "# now it's time to combine the resulting dataframes based on primary keys.\n",
    "\n"
   ]
  },
  {
   "cell_type": "markdown",
   "id": "043bef03",
   "metadata": {},
   "source": [
    "After API testing, we determined that API will not cut it.  We need to scale up for more data.\n",
    "Below is code to pull the data in the json files directly off the api and save them out for further use.  Unrestricted use."
   ]
  },
  {
   "cell_type": "code",
   "execution_count": null,
   "id": "4a4d6cdc",
   "metadata": {
    "pycharm": {
     "name": "#%%\n"
    }
   },
   "outputs": [],
   "source": [
    "# Calls in the packages used for the downloading of information from\n",
    "# Open FDA's website\n",
    "import wget\n",
    "import requests\n",
    "\n",
    "URL = 'https://api.fda.gov/download.json'  #list of all the FDA Files\n",
    "\n",
    "#Link to where I want the data saved\n",
    "Savelocation = 'J:\\My Drive\\Graduate School\\IST718 Big Data Analysis\\Final Project\\Files'\n",
    "# Calls the downloads list as a JSON and formats the data as a string\n",
    "downloads = requests.get(URL).json()\n",
    "drug_events = downloads.get('results', {}).get('drug', {}).get('event', {}).get('partitions', [])\n",
    "\n",
    "# Pulls the file path the JSON String and downloads the file\n",
    "# Zip files are renamed at download appending the quarter\n",
    "# This is done to not allow the data to be overwritten by files with the same name\n",
    "for event in drug_events:\n",
    "       zip_url = event.get('file', None)\n",
    "       nmbr = zip_url.rfind('/')\n",
    "       wget.download(zip_url, zip_url[41:nmbr] + '-' + zip_url[nmbr + 1:])\n",
    "# Import OS Package and Zip File package\n",
    "# They will be used to unzip the downloaded JSON Files\n",
    "import os, zipfile\n",
    "\n",
    "# This block loops through the zipped files, collects the file name\n",
    "# The file is then renamed to the zip folder\n",
    "# Note this works because there is only 1 JSON file in each compressed Fold\n",
    "# The file is then unzip into a side directory\n",
    "for item in os.listdir(r'J:\\My Drive\\Graduate School\\IST718 Big Data Analysis\\Final Project\\Files'):\n",
    "       if item.endswith(\".zip\"):\n",
    "              file_name = os.path.abspath(item)\n",
    "              zip_ref = zipfile.ZipFile(file_name)\n",
    "              zip_info = zip_ref.infolist()\n",
    "              for info in zip_info:\n",
    "                     info.filename = file_name[file_name.rfind('\\\\') + 1:file_name.rfind('.zip')]\n",
    "                     zip_ref.extract(info,\n",
    "                                     path=r'J:\\My Drive\\Graduate School\\IST718 Big Data Analysis\\Final Project\\Unzipped Files')"
   ]
  },
  {
   "cell_type": "markdown",
   "id": "52e1bd0a",
   "metadata": {},
   "source": [
    "Once the above code runs. IT TAKES HOURS / DAYS.\n",
    "We then combined the files to one convient CSV file with the below code.\n",
    "\n",
    "*** note we do not run this each time we do a data load, we only run these initial blocks ONCE."
   ]
  },
  {
   "cell_type": "code",
   "execution_count": null,
   "id": "134a6500",
   "metadata": {
    "pycharm": {
     "name": "#%%\n"
    }
   },
   "outputs": [],
   "source": [
    "import os\n",
    "import pandas as pd\n",
    "import json\n",
    "\n",
    "os.chdir(r'J:\\My Drive\\Graduate School\\IST718 Big Data Analysis\\Final Project\\Unzipped Files\\Starter File')\n",
    "#Lists for Sub Frames\n",
    "medicines = []\n",
    "reactions = []\n",
    "\n",
    "#The loop to end all loops\n",
    "path = os.getcwd()\n",
    "for subdir, dirs, files in os.walk(path):\n",
    "    for f in files:\n",
    "        if f.endswith('.json'):\n",
    "            with open(os.path.join(subdir, f)) as data_file:\n",
    "                d = json.load(data_file)\n",
    "                df = pd.json_normalize(d['results'], max_level=None)\n",
    "                del data_file\n",
    "                del d\n",
    "                #Flatten Additional Columns\n",
    "                df['patient.reaction'] = df['patient.reaction'].apply(lambda x: pd.json_normalize(x))\n",
    "                df['patient.drug'] = df['patient.drug'].apply(lambda x: pd.json_normalize(x))\n",
    "                df = df.drop(\n",
    "                    columns=['reporttype', 'safetyreportversion', 'receivedateformat', 'transmissiondateformat',\n",
    "                             'fulfillexpeditecriteria', 'receiptdateformat', 'duplicate', 'receivedate',\n",
    "                             'transmissiondate',\n",
    "                             'primarysource.reportercountry', 'reportduplicate.duplicatenumb', 'receiver.receivertype',\n",
    "                             'receiver.receiverorganization', 'sender.sendertype', 'sender.senderorganization',\n",
    "                             'patient.summary.narrativeincludeclinical', 'primarysource.literaturereference'])\n",
    "                df = df[(df['primarysource.qualification'] == '3') | (df['primarysource.qualification'] == '2') | (\n",
    "                            df['primarysource.qualification'] == '1')].reset_index()\n",
    "\n",
    "                #Collect the Medicines\n",
    "                for i in range(0, len(df['safetyreportid'])):\n",
    "                    report = pd.DataFrame(df['patient.drug'][i])\n",
    "                    for l in range(0, len(report['medicinalproduct'])):\n",
    "                        d = {'safetyreportid': df['safetyreportid'][i],\n",
    "                             'medicinalproduct': report['medicinalproduct'][l]}\n",
    "                        medicines.append(d)\n",
    "\n",
    "                #Collect the Reactions\n",
    "                for i in range(0, len(df['safetyreportid'])):\n",
    "                    report = pd.DataFrame(df['patient.reaction'][i])\n",
    "                    for l in range(0, len(report['reactionmeddrapt'])):\n",
    "                        d = {'safetyreportid': df['safetyreportid'][i],\n",
    "                             'reactionmedrapt': report['reactionmeddrapt'][l]}\n",
    "                        reactions.append(d)\n",
    "                mDf = df.drop(columns=['patient.drug', 'patient.reaction'])\n",
    "                try:\n",
    "                    masterDF = masterDF.append(mDf, ignore_index=True)\n",
    "                except:\n",
    "                    masterDF = mDf\n",
    "                    print(\"masterDF didn't exist\")  #should see 1 time\n",
    "                del d\n",
    "                del df\n",
    "os.chdir(r'J:\\My Drive\\Graduate School\\IST718 Big Data Analysis\\Final Project\\flattenedOutput')\n",
    "\n",
    "masterDF.to_pickle('consolidatedData.pkl')\n",
    "masterDF.to_csv('consolidatedData.csv')\n",
    "del masterDF\n",
    "reactions = pd.DataFrame(reactions)\n",
    "reactions.to_pickle('reactions.pkl')\n",
    "reactions.to_csv('reaction.csv')\n",
    "del reactions\n",
    "medicines = pd.DataFrame(medicines)\n",
    "medicines.to_pickle('medicines.pkl')\n",
    "medicines.to_csv('medicines.csv')\n",
    "del medicines"
   ]
  },
  {
   "cell_type": "markdown",
   "id": "fb27d3b0",
   "metadata": {},
   "source": [
    "### FDA Adverse Drug event analysis\n",
    "- Data collected via https://open.fda.gov/data/faers/\n",
    "- Data cleaned and aggregated via SingleDataFrame.ipynb\n",
    "- Initial requests explored via Example of API Requests.ipynb"
   ]
  },
  {
   "cell_type": "code",
   "execution_count": 1,
   "id": "1528e28d",
   "metadata": {},
   "outputs": [],
   "source": [
    "# FDA adverse drug events analysis\n",
    "\n",
    "# imports\n",
    "import pandas as pd\n",
    "import numpy as np\n",
    "import json\n",
    "from operator import itemgetter\n",
    "import datetime as datetime\n",
    "import requests\n",
    "import dask.dataframe as dd\n",
    "\n",
    "#sklearn\n",
    "from sklearn.model_selection import GridSearchCV, train_test_split\n",
    "from sklearn.naive_bayes import MultinomialNB\n",
    "from sklearn.metrics import classification_report, ConfusionMatrixDisplay, confusion_matrix\n",
    "from sklearn.preprocessing import StandardScaler\n",
    "from sklearn.pipeline import Pipeline\n",
    "\n",
    "# visualization imports\n",
    "import matplotlib.pyplot as plt\n",
    "import plotly.express as px\n",
    "import seaborn as sns\n"
   ]
  },
  {
   "cell_type": "markdown",
   "id": "ab5b70db",
   "metadata": {},
   "source": [
    "## Initial Data Load"
   ]
  },
  {
   "cell_type": "code",
   "execution_count": 2,
   "id": "e7516b77",
   "metadata": {
    "pycharm": {
     "name": "#%%\n"
    }
   },
   "outputs": [],
   "source": [
    "# read in consolidated df created in\n",
    "\n",
    "pathToData = 'J:\\My Drive\\Graduate School\\IST718 Big Data Analysis\\Final Project\\consolidatedData.csv'\n",
    "df_fda = pd.read_csv(pathToData,dtype={'authoritynumb': 'object',\n",
    "       'patient.patientagegroup': 'float64',\n",
    "       'patient.patientonsetage': 'float64',\n",
    "       'patient.patientonsetageunit': 'float64',\n",
    "       'patient.patientsex': 'float64',\n",
    "       'seriousnesshospitalization': 'float64',\n",
    "       'safetyreportid': 'object',\n",
    "       'medicinalproduct':'object',\n",
    "        'reactionmedrapt':'object'})\n",
    "\n",
    "# df_fda=df_fda.compute()"
   ]
  },
  {
   "cell_type": "markdown",
   "id": "958a080f",
   "metadata": {},
   "source": [
    "Above is the time required to load data into python env via the CSV file we created earlier.\n",
    "\n",
    "Below is code we used through analysis to create samples to more easily view the data during cleanup"
   ]
  },
  {
   "cell_type": "code",
   "execution_count": 3,
   "id": "160ee639",
   "metadata": {
    "pycharm": {
     "name": "#%%\n"
    }
   },
   "outputs": [
    {
     "data": {
      "text/plain": [
       "<bound method DataFrame.info of               V1  index safetyreportid  serious  receiptdate  \\\n",
       "39940820  202987  11186       12868930        1     20200213   \n",
       "53335615   40568   2866       18434845        1     20201028   \n",
       "53995427    2760    410       18454171        1     20201102   \n",
       "4028764    60700   4760       12487163        1     20160712   \n",
       "47840759   58096   2297       17282843        1     20200719   \n",
       "...          ...    ...            ...      ...          ...   \n",
       "34829344  158518   8974       16627498        1     20190724   \n",
       "14378867   21392   8972       14139211        1     20171028   \n",
       "55230255  196022   9554       18468492        1     20201105   \n",
       "46672768  133896   6405       17884094        1     20200611   \n",
       "14712395   33050   4329       14300098        1     20171219   \n",
       "\n",
       "                             companynumb occurcountry  \\\n",
       "39940820        US-PFIZER INC-2016485522           US   \n",
       "53335615  CA-CELLTRION INC.-2020CA029502           CA   \n",
       "53995427           CA-JNJFOC-20201044913           CA   \n",
       "4028764           AU-GILEAD-2016-0218757           AU   \n",
       "47840759                NVSC2020PT008101           PT   \n",
       "...                                  ...          ...   \n",
       "34829344         CA-TEVA-2019-CA-1080213           CA   \n",
       "14378867                PHEH2017US034142           US   \n",
       "55230255        GB-PFIZER INC-2020427113           GB   \n",
       "46672768                IE-ROCHE-2615743           IE   \n",
       "14712395            US-SHIRE-US201733486           US   \n",
       "\n",
       "          seriousnesshospitalization primarysourcecountry  \\\n",
       "39940820                         NaN                   US   \n",
       "53335615                         NaN                   CA   \n",
       "53995427                         NaN                   CA   \n",
       "4028764                          NaN                   AU   \n",
       "47840759                         1.0                   PT   \n",
       "...                              ...                  ...   \n",
       "34829344                         1.0                   CA   \n",
       "14378867                         NaN                   US   \n",
       "55230255                         1.0                   GB   \n",
       "46672768                         NaN                   IE   \n",
       "14712395                         NaN                   US   \n",
       "\n",
       "          primarysource.qualification  ...  reportduplicate.duplicatesource  \\\n",
       "39940820                            3  ...                           PFIZER   \n",
       "53335615                            3  ...                        CELLTRION   \n",
       "53995427                            3  ...              JOHNSON AND JOHNSON   \n",
       "4028764                             3  ...                           GILEAD   \n",
       "47840759                            3  ...                         NOVARTIS   \n",
       "...                               ...  ...                              ...   \n",
       "34829344                            3  ...                             TEVA   \n",
       "14378867                            1  ...                           SANDOZ   \n",
       "55230255                            2  ...                           PFIZER   \n",
       "46672768                            2  ...                            ROCHE   \n",
       "14712395                            3  ...                            SHIRE   \n",
       "\n",
       "          seriousnessother  seriousnesslifethreatening         authoritynumb  \\\n",
       "39940820               NaN                         NaN                   NaN   \n",
       "53335615               1.0                         NaN                   NaN   \n",
       "53995427               1.0                         NaN                   NaN   \n",
       "4028764                1.0                         NaN                   NaN   \n",
       "47840759               1.0                         NaN                   NaN   \n",
       "...                    ...                         ...                   ...   \n",
       "34829344               1.0                         NaN                   NaN   \n",
       "14378867               1.0                         NaN                   NaN   \n",
       "55230255               NaN                         NaN  GB-MHRA-EYC 00231210   \n",
       "46672768               1.0                         NaN                   NaN   \n",
       "14712395               1.0                         NaN                   NaN   \n",
       "\n",
       "          seriousnessdeath seriousnesscongenitalanomali  seriousnessdisabling  \\\n",
       "39940820               NaN                          NaN                   1.0   \n",
       "53335615               NaN                          NaN                   NaN   \n",
       "53995427               NaN                          NaN                   NaN   \n",
       "4028764                NaN                          NaN                   NaN   \n",
       "47840759               NaN                          NaN                   NaN   \n",
       "...                    ...                          ...                   ...   \n",
       "34829344               NaN                          NaN                   NaN   \n",
       "14378867               NaN                          NaN                   NaN   \n",
       "55230255               1.0                          NaN                   NaN   \n",
       "46672768               NaN                          NaN                   NaN   \n",
       "14712395               NaN                          NaN                   NaN   \n",
       "\n",
       "                         reactionmedrapt           medicinalproduct  receiver  \n",
       "39940820                  Renal disorder                    IBRANCE       NaN  \n",
       "53335615                       Hot flush              METHOTREXATE.       NaN  \n",
       "53995427                      Arthralgia                   REMICADE       NaN  \n",
       "4028764                 Hypersensitivity                    HARVONI       NaN  \n",
       "47840759       Large intestine infection            VALGANCICLOVIR.       NaN  \n",
       "...                                  ...                        ...       ...  \n",
       "34829344                  Eye irritation                PREDNISONE.       NaN  \n",
       "14378867  Malignant neoplasm progression  CARBOPLATIN FOR INJECTION       NaN  \n",
       "55230255                    Brain injury                   DIGOXIN.       NaN  \n",
       "46672768                      Drug abuse                     VALIUM       NaN  \n",
       "14712395                         Pyrexia                    ELIQUIS       NaN  \n",
       "\n",
       "[1000 rows x 25 columns]>"
      ]
     },
     "execution_count": 3,
     "metadata": {},
     "output_type": "execute_result"
    }
   ],
   "source": [
    "# check a sample of the data works\n",
    "sample = df_fda.sample(1000)\n",
    "sample.info\n",
    "# identify columns to drop"
   ]
  },
  {
   "cell_type": "markdown",
   "id": "e54a626e",
   "metadata": {},
   "source": [
    "## Begin Filtering and cleanup here"
   ]
  },
  {
   "cell_type": "code",
   "execution_count": 4,
   "id": "9fd15b59",
   "metadata": {
    "pycharm": {
     "name": "#%%\n"
    }
   },
   "outputs": [
    {
     "name": "stdout",
     "output_type": "stream",
     "text": [
      "Wall time: 38.4 s\n"
     ]
    }
   ],
   "source": [
    "%%time\n",
    "\n",
    "df_fda = df_fda.drop(columns = ['authoritynumb', 'companynumb','reportduplicate.duplicatesource',\n",
    "                                'patient.patientonsetageunit','patient.patientagegroup','primarysourcecountry','V1','index', 'receiver'])\n",
    "\n",
    "# filter out all 2 and 3's from primarysource.qualification\n",
    "# df_fda = df_fda[df_fda.primarysource.qualification != 1]\n",
    "\n",
    "# drop health professionals\n",
    "#df_fda = df_fda.drop(columns = 'primarysource.qualification')\n",
    "\n",
    "# replace nan ages with -1\n",
    "df_fda['patient.patientonsetage'] = df_fda['patient.patientonsetage'].fillna(-1)\n",
    "# filter ages drop every age over 115 (probably reporting anomalies)\n",
    "df_fda = df_fda.loc[df_fda['patient.patientonsetage'] < 115]\n",
    "# convert ages to ints\n",
    "df_fda['patient.patientonsetage'] = df_fda['patient.patientonsetage'].astype(int)\n",
    "\n",
    "# replace nan weights with -1\n",
    "df_fda['patient.patientweight'] = df_fda['patient.patientweight'].fillna(-1)\n",
    "# filter weights drop every weight over 635kg (the heaviest man ever) (probably reporting anomalies)\n",
    "df_fda = df_fda.loc[df_fda['patient.patientweight'] < 635]\n",
    "# converting to int where floats aren't needed\n",
    "df_fda['patient.patientweight'] = df_fda['patient.patientweight'].astype(int)\n",
    "\n",
    "# replace nan sex with -1\n",
    "df_fda['patient.patientsex'] = df_fda['patient.patientsex'].fillna(-1)\n",
    "# converting to int where floats aren't needed\n",
    "df_fda['patient.patientsex'] = df_fda['patient.patientsex'].astype(int)\n",
    "\n",
    "# convert potential bool values\n",
    "# fill nan with 0\n",
    "# big caveat with these conversions FALSE could indicate UNREPORTED data not just FALSE\n",
    "df_fda[['seriousnesshospitalization', 'seriousnessother','seriousnesslifethreatening', 'seriousnessdeath',\n",
    "       'seriousnesscongenitalanomali', 'seriousnessdisabling']] = \\\n",
    "       df_fda[['seriousnesshospitalization', 'seriousnessother','seriousnesslifethreatening', 'seriousnessdeath',\n",
    "              'seriousnesscongenitalanomali', 'seriousnessdisabling']].fillna(0)\n",
    "\n",
    "# convert 1/0 columns to bol\n",
    "df_fda[['seriousnesshospitalization', 'seriousnessother','seriousnesslifethreatening', 'seriousnessdeath',\n",
    "       'seriousnesscongenitalanomali', 'seriousnessdisabling']] = \\\n",
    "       df_fda[['seriousnesshospitalization', 'seriousnessother','seriousnesslifethreatening', 'seriousnessdeath',\n",
    "              'seriousnesscongenitalanomali', 'seriousnessdisabling']].astype('bool')\n",
    "\n",
    "# convert receipt date to datetime\n",
    "df_fda['receiptdate'] = pd.to_datetime(df_fda['receiptdate'],format='%Y%m%d')\n",
    "df_fda['receiptdate'] = df_fda['receiptdate'].dt.date\n"
   ]
  },
  {
   "cell_type": "markdown",
   "id": "26ad4f90",
   "metadata": {},
   "source": [
    "Data set is now 'clean' lets generate some summary statistics"
   ]
  },
  {
   "cell_type": "code",
   "execution_count": 5,
   "id": "228e1d2c",
   "metadata": {
    "pycharm": {
     "name": "#%%\n"
    }
   },
   "outputs": [
    {
     "name": "stdout",
     "output_type": "stream",
     "text": [
      "<class 'pandas.core.frame.DataFrame'>\n",
      "Int64Index: 56104095 entries, 0 to 56282294\n",
      "Data columns (total 16 columns):\n",
      " #   Column                        Dtype \n",
      "---  ------                        ----- \n",
      " 0   safetyreportid                object\n",
      " 1   serious                       int64 \n",
      " 2   receiptdate                   object\n",
      " 3   occurcountry                  object\n",
      " 4   seriousnesshospitalization    bool  \n",
      " 5   primarysource.qualification   int64 \n",
      " 6   patient.patientonsetage       int32 \n",
      " 7   patient.patientweight         int32 \n",
      " 8   patient.patientsex            int32 \n",
      " 9   seriousnessother              bool  \n",
      " 10  seriousnesslifethreatening    bool  \n",
      " 11  seriousnessdeath              bool  \n",
      " 12  seriousnesscongenitalanomali  bool  \n",
      " 13  seriousnessdisabling          bool  \n",
      " 14  reactionmedrapt               object\n",
      " 15  medicinalproduct              object\n",
      "dtypes: bool(6), int32(3), int64(2), object(5)\n",
      "memory usage: 4.3+ GB\n"
     ]
    }
   ],
   "source": [
    "df_fda.info()"
   ]
  },
  {
   "cell_type": "code",
   "execution_count": 6,
   "id": "07a21beb",
   "metadata": {
    "pycharm": {
     "name": "#%%\n"
    }
   },
   "outputs": [
    {
     "data": {
      "text/plain": [
       "count    4.276881e+07\n",
       "mean     5.662904e+01\n",
       "std      1.940464e+01\n",
       "min      1.000000e+00\n",
       "25%      4.500000e+01\n",
       "50%      6.000000e+01\n",
       "75%      7.100000e+01\n",
       "max      1.140000e+02\n",
       "Name: patient.patientonsetage, dtype: float64"
      ]
     },
     "execution_count": 6,
     "metadata": {},
     "output_type": "execute_result"
    }
   ],
   "source": [
    "# summarize age of patients\n",
    "df_fda.loc[df_fda['patient.patientonsetage'] > 0]['patient.patientonsetage'].describe()\n"
   ]
  },
  {
   "cell_type": "code",
   "execution_count": 7,
   "id": "94502552",
   "metadata": {
    "pycharm": {
     "name": "#%%\n"
    }
   },
   "outputs": [
    {
     "data": {
      "text/plain": [
       "<AxesSubplot:title={'center':'Age Range Adverse Effects'}, ylabel='count'>"
      ]
     },
     "execution_count": 7,
     "metadata": {},
     "output_type": "execute_result"
    },
    {
     "data": {
      "image/png": "[encoded data removed]",
      "text/plain": [
       "<Figure size 432x288 with 1 Axes>"
      ]
     },
     "metadata": {
      "needs_background": "light"
     },
     "output_type": "display_data"
    }
   ],
   "source": [
    "# create a summary column for age range\n",
    "bins = [0, 10, 20, 30, 40, 50, 60, 70, 80 ,90, 100, 115]\n",
    "labels = ['0-9', '10-19', '20-29', '30-39', '40-49', '50-59', '60-69', '70-79', '80-89', '90-99', '100+']\n",
    "df_fda['agerange'] = pd.cut(df_fda['patient.patientonsetage'], bins, labels = labels,include_lowest = True)\n",
    "\n",
    "# plot results\n",
    "df_fda['agerange'].value_counts(sort=False).plot(kind = 'barh', title = 'Age Range Adverse Effects', ylabel = 'count')\n"
   ]
  },
  {
   "cell_type": "code",
   "execution_count": 8,
   "id": "b92a0dd3",
   "metadata": {
    "pycharm": {
     "name": "#%%\n"
    }
   },
   "outputs": [
    {
     "data": {
      "text/plain": [
       "count    5.064822e+07\n",
       "mean     1.613110e+00\n",
       "std      4.870381e-01\n",
       "min      1.000000e+00\n",
       "25%      1.000000e+00\n",
       "50%      2.000000e+00\n",
       "75%      2.000000e+00\n",
       "max      2.000000e+00\n",
       "Name: patient.patientsex, dtype: float64"
      ]
     },
     "execution_count": 8,
     "metadata": {},
     "output_type": "execute_result"
    }
   ],
   "source": [
    "# summarize sex of patients\n",
    "df_fda.loc[df_fda['patient.patientsex'] > 0]['patient.patientsex'].describe()"
   ]
  },
  {
   "cell_type": "code",
   "execution_count": 9,
   "id": "f2609b49",
   "metadata": {
    "pycharm": {
     "name": "#%%\n"
    }
   },
   "outputs": [],
   "source": [
    "# summarize sex of patients\n",
    "#df_fda.loc[df_fda['patient.patientsex'] > 0].boxplot(column='patient.patientsex')"
   ]
  },
  {
   "cell_type": "code",
   "execution_count": 10,
   "id": "8bd86fa8",
   "metadata": {
    "pycharm": {
     "name": "#%%\n"
    }
   },
   "outputs": [
    {
     "data": {
      "text/plain": [
       "<matplotlib.legend.Legend at 0x1c88d0d2fd0>"
      ]
     },
     "execution_count": 10,
     "metadata": {},
     "output_type": "execute_result"
    },
    {
     "data": {
      "image/png": "[encoded data removed]",
      "text/plain": [
       "<Figure size 432x288 with 1 Axes>"
      ]
     },
     "metadata": {
      "needs_background": "light"
     },
     "output_type": "display_data"
    }
   ],
   "source": [
    "# plot sex vs age\n",
    "fig, ax = plt.subplots()\n",
    "df_fda.loc[df_fda['patient.patientsex'] > 0].groupby(['agerange','patient.patientsex']).size().unstack(level=1).plot(kind='bar', title = 'Adverse Events by Age Range & Sex', ylabel = 'count', ax = ax)\n",
    "ax.legend(['Male', 'Female'])\n"
   ]
  },
  {
   "cell_type": "code",
   "execution_count": 11,
   "id": "af6ea1d0",
   "metadata": {
    "pycharm": {
     "name": "#%%\n"
    }
   },
   "outputs": [
    {
     "data": {
      "text/plain": [
       "count    2.087740e+07\n",
       "mean     7.431710e+01\n",
       "std      2.510824e+01\n",
       "min      1.000000e+00\n",
       "25%      5.900000e+01\n",
       "50%      7.200000e+01\n",
       "75%      8.800000e+01\n",
       "max      6.180000e+02\n",
       "Name: patient.patientweight, dtype: float64"
      ]
     },
     "execution_count": 11,
     "metadata": {},
     "output_type": "execute_result"
    }
   ],
   "source": [
    "# summarize weight of patients\n",
    "df_fda.loc[df_fda['patient.patientweight'] > 0]['patient.patientweight'].describe()"
   ]
  },
  {
   "cell_type": "code",
   "execution_count": 12,
   "id": "94d29122",
   "metadata": {
    "pycharm": {
     "name": "#%%\n"
    }
   },
   "outputs": [
    {
     "data": {
      "text/plain": [
       "<AxesSubplot:>"
      ]
     },
     "execution_count": 12,
     "metadata": {},
     "output_type": "execute_result"
    },
    {
     "data": {
      "image/png": "[encoded data removed]",
      "text/plain": [
       "<Figure size 432x288 with 1 Axes>"
      ]
     },
     "metadata": {
      "needs_background": "light"
     },
     "output_type": "display_data"
    }
   ],
   "source": [
    "# bar plot weight distribution no real tell here, lots of outliers\n",
    "df_fda.loc[df_fda['patient.patientweight'] > 0].boxplot(column='patient.patientweight')"
   ]
  },
  {
   "cell_type": "code",
   "execution_count": 13,
   "id": "c10bb85e",
   "metadata": {
    "pycharm": {
     "name": "#%%\n"
    }
   },
   "outputs": [
    {
     "data": {
      "text/plain": [
       "count    5.610410e+07\n",
       "mean     2.041563e+00\n",
       "std      9.515980e-01\n",
       "min      1.000000e+00\n",
       "25%      1.000000e+00\n",
       "50%      2.000000e+00\n",
       "75%      3.000000e+00\n",
       "max      3.000000e+00\n",
       "Name: primarysource.qualification, dtype: float64"
      ]
     },
     "execution_count": 13,
     "metadata": {},
     "output_type": "execute_result"
    }
   ],
   "source": [
    "# summary of primary source\n",
    "df_fda['primarysource.qualification'].describe()\n"
   ]
  },
  {
   "cell_type": "markdown",
   "id": "8df7442e",
   "metadata": {},
   "source": [
    "An encoded value for the category of individual submitting the report.\n",
    "\n",
    "1 = Physician\n",
    "2 = Pharmacist\n",
    "3 = Other Health Professional\n",
    "We cut out the following codes:\n",
    "4 = Lawyer\n",
    "5 = Consumer or non-health professional"
   ]
  },
  {
   "cell_type": "code",
   "execution_count": 14,
   "id": "0e6acb8e",
   "metadata": {
    "pycharm": {
     "name": "#%%\n"
    }
   },
   "outputs": [
    {
     "data": {
      "text/plain": [
       "<matplotlib.legend.Legend at 0x1c88d182cd0>"
      ]
     },
     "execution_count": 14,
     "metadata": {},
     "output_type": "execute_result"
    },
    {
     "data": {
      "image/png": "[encoded data removed]",
      "text/plain": [
       "<Figure size 360x360 with 1 Axes>"
      ]
     },
     "metadata": {},
     "output_type": "display_data"
    }
   ],
   "source": [
    "# plot primary source qualification distribution\n",
    "fig, ax = plt.subplots()\n",
    "df_fda['primarysource.qualification'].value_counts(sort=False).plot.pie(figsize=(5, 5), title = 'Reporter Distribution', ax = ax, autopct='%1.1f%%', explode=(0, 0, 0.1),shadow=True, startangle=0)\n",
    "ax.legend(['Physician', 'Pharmacist', 'Other Health Professional'])"
   ]
  },
  {
   "cell_type": "code",
   "execution_count": 15,
   "id": "ef5e5b6a",
   "metadata": {
    "pycharm": {
     "name": "#%%\n"
    }
   },
   "outputs": [
    {
     "data": {
      "text/plain": [
       "<AxesSubplot:title={'center':'Adverse Events Over Time (smoothed)'}, xlabel='receiptdate', ylabel='count'>"
      ]
     },
     "execution_count": 15,
     "metadata": {},
     "output_type": "execute_result"
    },
    {
     "data": {
      "image/png": "[encoded data removed]",
      "text/plain": [
       "<Figure size 432x288 with 1 Axes>"
      ]
     },
     "metadata": {
      "needs_background": "light"
     },
     "output_type": "display_data"
    }
   ],
   "source": [
    "# time series plot to visualize seasonality\n",
    "df_fda_time = df_fda\n",
    "df_fda_time.index = pd.to_datetime(df_fda_time['receiptdate'])\n",
    "#df_fda['receiptdate'].value_counts(sort=False).plot(kind = 'line', title = 'Adverse Events over time', ylabel = 'count')\n",
    "df_fda_time['receiptdate'].resample('1M').count().plot(kind = 'line', title = 'Adverse Events Over Time (smoothed)', ylabel = 'count')\n"
   ]
  },
  {
   "cell_type": "code",
   "execution_count": 16,
   "id": "364ba11a",
   "metadata": {
    "pycharm": {
     "name": "#%%\n"
    }
   },
   "outputs": [
    {
     "data": {
      "text/plain": [
       "<AxesSubplot:title={'center':'Adverse Events over time'}, xlabel='receiptdate', ylabel='count'>"
      ]
     },
     "execution_count": 16,
     "metadata": {},
     "output_type": "execute_result"
    },
    {
     "data": {
      "image/png": "[encoded data removed]",
      "text/plain": [
       "<Figure size 432x288 with 1 Axes>"
      ]
     },
     "metadata": {
      "needs_background": "light"
     },
     "output_type": "display_data"
    }
   ],
   "source": [
    "# subplots of total adverse events\n",
    "df_fda_time[['receiptdate','serious','seriousnessdeath','seriousnessdisabling','seriousnesshospitalization','seriousnesscongenitalanomali','seriousnesslifethreatening','seriousnessother']].resample('1M').sum().plot(kind = 'line', title = 'Adverse Events over time', ylabel = 'count')\n"
   ]
  },
  {
   "cell_type": "code",
   "execution_count": 17,
   "id": "863ce18a",
   "metadata": {
    "pycharm": {
     "name": "#%%\n"
    }
   },
   "outputs": [],
   "source": [
    "# drop any summary columns not usefule in modeling\n",
    "# drop the summary column\n",
    "df_fda = df_fda.drop(columns = 'agerange')\n",
    "df_fda = df_fda.drop(columns = 'receiptdate')\n",
    "df_fda_time = pd.DataFrame(None)\n",
    "# df_fda = df_fda.reset_index()"
   ]
  },
  {
   "cell_type": "markdown",
   "id": "87148ffe",
   "metadata": {
    "pycharm": {
     "name": "#%% md\n"
    }
   },
   "source": [
    "### Modeling"
   ]
  },
  {
   "cell_type": "code",
   "execution_count": 18,
   "id": "bf2ad70b",
   "metadata": {},
   "outputs": [],
   "source": [
    "# drop all negatives as these columns won't function in model appropriately\n",
    "df_fda = df_fda.loc[df_fda['patient.patientweight'] > 0]\n",
    "df_fda = df_fda.loc[df_fda['patient.patientonsetage'] > 0]\n",
    "df_fda = df_fda.loc[df_fda['patient.patientsex'] > 0]"
   ]
  },
  {
   "cell_type": "code",
   "execution_count": 19,
   "id": "db3cfb49",
   "metadata": {
    "pycharm": {
     "name": "#%%\n"
    }
   },
   "outputs": [
    {
     "name": "stdout",
     "output_type": "stream",
     "text": [
      "Wall time: 2.67 s\n"
     ]
    },
    {
     "data": {
      "text/html": [
       "<div>\n",
       "<style scoped>\n",
       "    .dataframe tbody tr th:only-of-type {\n",
       "        vertical-align: middle;\n",
       "    }\n",
       "\n",
       "    .dataframe tbody tr th {\n",
       "        vertical-align: top;\n",
       "    }\n",
       "\n",
       "    .dataframe thead th {\n",
       "        text-align: right;\n",
       "    }\n",
       "</style>\n",
       "<table border=\"1\" class=\"dataframe\">\n",
       "  <thead>\n",
       "    <tr style=\"text-align: right;\">\n",
       "      <th></th>\n",
       "      <th>seriousnesshospitalization</th>\n",
       "      <th>seriousnessother</th>\n",
       "      <th>seriousnesslifethreatening</th>\n",
       "      <th>seriousnessdeath</th>\n",
       "      <th>seriousnesscongenitalanomali</th>\n",
       "      <th>seriousnessdisabling</th>\n",
       "      <th>serious</th>\n",
       "    </tr>\n",
       "  </thead>\n",
       "  <tbody>\n",
       "    <tr>\n",
       "      <th>seriousnesshospitalization</th>\n",
       "      <td>1.000000</td>\n",
       "      <td>-0.121247</td>\n",
       "      <td>0.115600</td>\n",
       "      <td>0.091915</td>\n",
       "      <td>-0.000870</td>\n",
       "      <td>-0.013904</td>\n",
       "      <td>-0.365558</td>\n",
       "    </tr>\n",
       "    <tr>\n",
       "      <th>seriousnessother</th>\n",
       "      <td>-0.121247</td>\n",
       "      <td>1.000000</td>\n",
       "      <td>0.035478</td>\n",
       "      <td>-0.014128</td>\n",
       "      <td>0.011361</td>\n",
       "      <td>0.040663</td>\n",
       "      <td>-0.386691</td>\n",
       "    </tr>\n",
       "    <tr>\n",
       "      <th>seriousnesslifethreatening</th>\n",
       "      <td>0.115600</td>\n",
       "      <td>0.035478</td>\n",
       "      <td>1.000000</td>\n",
       "      <td>0.167943</td>\n",
       "      <td>0.017849</td>\n",
       "      <td>0.108015</td>\n",
       "      <td>-0.107504</td>\n",
       "    </tr>\n",
       "    <tr>\n",
       "      <th>seriousnessdeath</th>\n",
       "      <td>0.091915</td>\n",
       "      <td>-0.014128</td>\n",
       "      <td>0.167943</td>\n",
       "      <td>1.000000</td>\n",
       "      <td>0.021687</td>\n",
       "      <td>-0.013392</td>\n",
       "      <td>-0.121042</td>\n",
       "    </tr>\n",
       "    <tr>\n",
       "      <th>seriousnesscongenitalanomali</th>\n",
       "      <td>-0.000870</td>\n",
       "      <td>0.011361</td>\n",
       "      <td>0.017849</td>\n",
       "      <td>0.021687</td>\n",
       "      <td>1.000000</td>\n",
       "      <td>0.026698</td>\n",
       "      <td>-0.018071</td>\n",
       "    </tr>\n",
       "    <tr>\n",
       "      <th>seriousnessdisabling</th>\n",
       "      <td>-0.013904</td>\n",
       "      <td>0.040663</td>\n",
       "      <td>0.108015</td>\n",
       "      <td>-0.013392</td>\n",
       "      <td>0.026698</td>\n",
       "      <td>1.000000</td>\n",
       "      <td>-0.072626</td>\n",
       "    </tr>\n",
       "    <tr>\n",
       "      <th>serious</th>\n",
       "      <td>-0.365558</td>\n",
       "      <td>-0.386691</td>\n",
       "      <td>-0.107504</td>\n",
       "      <td>-0.121042</td>\n",
       "      <td>-0.018071</td>\n",
       "      <td>-0.072626</td>\n",
       "      <td>1.000000</td>\n",
       "    </tr>\n",
       "  </tbody>\n",
       "</table>\n",
       "</div>"
      ],
      "text/plain": [
       "                              seriousnesshospitalization  seriousnessother  \\\n",
       "seriousnesshospitalization                      1.000000         -0.121247   \n",
       "seriousnessother                               -0.121247          1.000000   \n",
       "seriousnesslifethreatening                      0.115600          0.035478   \n",
       "seriousnessdeath                                0.091915         -0.014128   \n",
       "seriousnesscongenitalanomali                   -0.000870          0.011361   \n",
       "seriousnessdisabling                           -0.013904          0.040663   \n",
       "serious                                        -0.365558         -0.386691   \n",
       "\n",
       "                              seriousnesslifethreatening  seriousnessdeath  \\\n",
       "seriousnesshospitalization                      0.115600          0.091915   \n",
       "seriousnessother                                0.035478         -0.014128   \n",
       "seriousnesslifethreatening                      1.000000          0.167943   \n",
       "seriousnessdeath                                0.167943          1.000000   \n",
       "seriousnesscongenitalanomali                    0.017849          0.021687   \n",
       "seriousnessdisabling                            0.108015         -0.013392   \n",
       "serious                                        -0.107504         -0.121042   \n",
       "\n",
       "                              seriousnesscongenitalanomali  \\\n",
       "seriousnesshospitalization                       -0.000870   \n",
       "seriousnessother                                  0.011361   \n",
       "seriousnesslifethreatening                        0.017849   \n",
       "seriousnessdeath                                  0.021687   \n",
       "seriousnesscongenitalanomali                      1.000000   \n",
       "seriousnessdisabling                              0.026698   \n",
       "serious                                          -0.018071   \n",
       "\n",
       "                              seriousnessdisabling   serious  \n",
       "seriousnesshospitalization               -0.013904 -0.365558  \n",
       "seriousnessother                          0.040663 -0.386691  \n",
       "seriousnesslifethreatening                0.108015 -0.107504  \n",
       "seriousnessdeath                         -0.013392 -0.121042  \n",
       "seriousnesscongenitalanomali              0.026698 -0.018071  \n",
       "seriousnessdisabling                      1.000000 -0.072626  \n",
       "serious                                  -0.072626  1.000000  "
      ]
     },
     "execution_count": 19,
     "metadata": {},
     "output_type": "execute_result"
    }
   ],
   "source": [
    "%%time\n",
    "df_fda[[ 'seriousnesshospitalization','seriousnessother', 'seriousnesslifethreatening',\n",
    "       'seriousnessdeath', 'seriousnesscongenitalanomali',\n",
    "       'seriousnessdisabling','serious']].corr()"
   ]
  },
  {
   "cell_type": "code",
   "execution_count": 20,
   "id": "2a4ab1fd",
   "metadata": {},
   "outputs": [
    {
     "data": {
      "text/plain": [
       "1    16765423\n",
       "2     1452069\n",
       "Name: serious, dtype: int64"
      ]
     },
     "execution_count": 20,
     "metadata": {},
     "output_type": "execute_result"
    }
   ],
   "source": [
    "review = df_fda[[ 'seriousnesshospitalization','seriousnessother', 'seriousnesslifethreatening',\n",
    "       'seriousnessdeath', 'seriousnesscongenitalanomali',\n",
    "       'seriousnessdisabling','serious']]\n",
    "review['serious'].value_counts()"
   ]
  },
  {
   "cell_type": "code",
   "execution_count": 21,
   "id": "91578a0f",
   "metadata": {},
   "outputs": [
    {
     "data": {
      "text/html": [
       "<div>\n",
       "<style scoped>\n",
       "    .dataframe tbody tr th:only-of-type {\n",
       "        vertical-align: middle;\n",
       "    }\n",
       "\n",
       "    .dataframe tbody tr th {\n",
       "        vertical-align: top;\n",
       "    }\n",
       "\n",
       "    .dataframe thead th {\n",
       "        text-align: right;\n",
       "    }\n",
       "</style>\n",
       "<table border=\"1\" class=\"dataframe\">\n",
       "  <thead>\n",
       "    <tr style=\"text-align: right;\">\n",
       "      <th></th>\n",
       "      <th>seriousnesshospitalization</th>\n",
       "      <th>seriousnessother</th>\n",
       "      <th>seriousnesslifethreatening</th>\n",
       "      <th>seriousnessdeath</th>\n",
       "      <th>seriousnesscongenitalanomali</th>\n",
       "      <th>seriousnessdisabling</th>\n",
       "      <th>serious</th>\n",
       "    </tr>\n",
       "    <tr>\n",
       "      <th>receiptdate</th>\n",
       "      <th></th>\n",
       "      <th></th>\n",
       "      <th></th>\n",
       "      <th></th>\n",
       "      <th></th>\n",
       "      <th></th>\n",
       "      <th></th>\n",
       "    </tr>\n",
       "  </thead>\n",
       "  <tbody>\n",
       "    <tr>\n",
       "      <th>2016-03-21</th>\n",
       "      <td>False</td>\n",
       "      <td>False</td>\n",
       "      <td>False</td>\n",
       "      <td>False</td>\n",
       "      <td>False</td>\n",
       "      <td>False</td>\n",
       "      <td>2</td>\n",
       "    </tr>\n",
       "    <tr>\n",
       "      <th>2016-03-21</th>\n",
       "      <td>False</td>\n",
       "      <td>False</td>\n",
       "      <td>False</td>\n",
       "      <td>False</td>\n",
       "      <td>False</td>\n",
       "      <td>False</td>\n",
       "      <td>2</td>\n",
       "    </tr>\n",
       "    <tr>\n",
       "      <th>2016-03-21</th>\n",
       "      <td>False</td>\n",
       "      <td>False</td>\n",
       "      <td>False</td>\n",
       "      <td>False</td>\n",
       "      <td>False</td>\n",
       "      <td>False</td>\n",
       "      <td>2</td>\n",
       "    </tr>\n",
       "    <tr>\n",
       "      <th>2016-03-04</th>\n",
       "      <td>False</td>\n",
       "      <td>False</td>\n",
       "      <td>False</td>\n",
       "      <td>False</td>\n",
       "      <td>False</td>\n",
       "      <td>False</td>\n",
       "      <td>2</td>\n",
       "    </tr>\n",
       "    <tr>\n",
       "      <th>2016-03-04</th>\n",
       "      <td>False</td>\n",
       "      <td>False</td>\n",
       "      <td>False</td>\n",
       "      <td>False</td>\n",
       "      <td>False</td>\n",
       "      <td>False</td>\n",
       "      <td>2</td>\n",
       "    </tr>\n",
       "    <tr>\n",
       "      <th>...</th>\n",
       "      <td>...</td>\n",
       "      <td>...</td>\n",
       "      <td>...</td>\n",
       "      <td>...</td>\n",
       "      <td>...</td>\n",
       "      <td>...</td>\n",
       "      <td>...</td>\n",
       "    </tr>\n",
       "    <tr>\n",
       "      <th>2020-10-01</th>\n",
       "      <td>False</td>\n",
       "      <td>False</td>\n",
       "      <td>False</td>\n",
       "      <td>False</td>\n",
       "      <td>False</td>\n",
       "      <td>False</td>\n",
       "      <td>2</td>\n",
       "    </tr>\n",
       "    <tr>\n",
       "      <th>2020-10-01</th>\n",
       "      <td>False</td>\n",
       "      <td>False</td>\n",
       "      <td>False</td>\n",
       "      <td>False</td>\n",
       "      <td>False</td>\n",
       "      <td>False</td>\n",
       "      <td>2</td>\n",
       "    </tr>\n",
       "    <tr>\n",
       "      <th>2020-11-11</th>\n",
       "      <td>False</td>\n",
       "      <td>False</td>\n",
       "      <td>False</td>\n",
       "      <td>False</td>\n",
       "      <td>False</td>\n",
       "      <td>False</td>\n",
       "      <td>2</td>\n",
       "    </tr>\n",
       "    <tr>\n",
       "      <th>2020-11-11</th>\n",
       "      <td>False</td>\n",
       "      <td>False</td>\n",
       "      <td>False</td>\n",
       "      <td>False</td>\n",
       "      <td>False</td>\n",
       "      <td>False</td>\n",
       "      <td>2</td>\n",
       "    </tr>\n",
       "    <tr>\n",
       "      <th>2020-11-09</th>\n",
       "      <td>False</td>\n",
       "      <td>False</td>\n",
       "      <td>False</td>\n",
       "      <td>False</td>\n",
       "      <td>False</td>\n",
       "      <td>False</td>\n",
       "      <td>2</td>\n",
       "    </tr>\n",
       "  </tbody>\n",
       "</table>\n",
       "<p>1452069 rows × 7 columns</p>\n",
       "</div>"
      ],
      "text/plain": [
       "             seriousnesshospitalization  seriousnessother  \\\n",
       "receiptdate                                                 \n",
       "2016-03-21                        False             False   \n",
       "2016-03-21                        False             False   \n",
       "2016-03-21                        False             False   \n",
       "2016-03-04                        False             False   \n",
       "2016-03-04                        False             False   \n",
       "...                                 ...               ...   \n",
       "2020-10-01                        False             False   \n",
       "2020-10-01                        False             False   \n",
       "2020-11-11                        False             False   \n",
       "2020-11-11                        False             False   \n",
       "2020-11-09                        False             False   \n",
       "\n",
       "             seriousnesslifethreatening  seriousnessdeath  \\\n",
       "receiptdate                                                 \n",
       "2016-03-21                        False             False   \n",
       "2016-03-21                        False             False   \n",
       "2016-03-21                        False             False   \n",
       "2016-03-04                        False             False   \n",
       "2016-03-04                        False             False   \n",
       "...                                 ...               ...   \n",
       "2020-10-01                        False             False   \n",
       "2020-10-01                        False             False   \n",
       "2020-11-11                        False             False   \n",
       "2020-11-11                        False             False   \n",
       "2020-11-09                        False             False   \n",
       "\n",
       "             seriousnesscongenitalanomali  seriousnessdisabling  serious  \n",
       "receiptdate                                                               \n",
       "2016-03-21                          False                 False        2  \n",
       "2016-03-21                          False                 False        2  \n",
       "2016-03-21                          False                 False        2  \n",
       "2016-03-04                          False                 False        2  \n",
       "2016-03-04                          False                 False        2  \n",
       "...                                   ...                   ...      ...  \n",
       "2020-10-01                          False                 False        2  \n",
       "2020-10-01                          False                 False        2  \n",
       "2020-11-11                          False                 False        2  \n",
       "2020-11-11                          False                 False        2  \n",
       "2020-11-09                          False                 False        2  \n",
       "\n",
       "[1452069 rows x 7 columns]"
      ]
     },
     "execution_count": 21,
     "metadata": {},
     "output_type": "execute_result"
    }
   ],
   "source": [
    "review[review['serious']==2]"
   ]
  },
  {
   "cell_type": "markdown",
   "id": "3fecef6c",
   "metadata": {},
   "source": [
    "# Creating a risk level category\n",
    "\n",
    "The Data show many different types of possible seriousness levels. To help medical professionals make the best decision it it possible to predict the risk level outcome so they can discuss care options with their patients\n",
    "\n",
    "For High Risk Death and Disablement were decided as these appear the most extreme outcomes for people, they can either no longer live their lives or are in a state where they are no longer alive\n",
    "\n",
    "For Medium High Risk Hospitalization and lifethreatening reactions were tagged. While both of these events result in medical staff the patient is getting closer to the High Risk category in which their life will never be the same.\n",
    "\n",
    "Medium risk was congential anamoli, more commonly known as birth defects. The data below shows these are super rarely reported and likely will preform poorly in the model without further data.\n",
    "\n",
    "Medium low risk was classified with Seriousness other. As a number of the reactions are things like no reaction or off label use the impact is difficult to quantify, on one hand no effect maybe good, but if a medication is supposed to reduct blood presure it could be on the end of the spectrum. The expectation if the result is the more serious category the doctor would code the report in a higher category such as life threatening.\n",
    "\n",
    "Low Risk = when the other categories are all false the seriousness category is 2 this represent a situation where the patient is in no known quantifyable danger with the current information provided."
   ]
  },
  {
   "cell_type": "code",
   "execution_count": 22,
   "id": "90ccd9a6",
   "metadata": {},
   "outputs": [
    {
     "data": {
      "text/plain": [
       "Medium High        9010650\n",
       "Medium Low Risk    4180876\n",
       "High               3550209\n",
       "Low Risk           1452069\n",
       "Medium Risk          23688\n",
       "Name: RiskLevel, dtype: int64"
      ]
     },
     "execution_count": 22,
     "metadata": {},
     "output_type": "execute_result"
    }
   ],
   "source": [
    "df_fda.loc[df_fda['serious']==2,\"RiskLevel\"] = \"Low Risk\"\n",
    "df_fda.loc[df_fda['seriousnessother']==True,'RiskLevel']=\"Medium Low Risk\"\n",
    "df_fda.loc[df_fda['seriousnesscongenitalanomali']==True,\"RiskLevel\"] = \"Medium Risk\"\n",
    "df_fda.loc[(df_fda['seriousnesslifethreatening']==True)|(df_fda['seriousnesshospitalization']==True), 'RiskLevel'] = \"Medium High\"\n",
    "df_fda.loc[(df_fda['seriousnessdeath']==True)|(df_fda['seriousnessdisabling']==True), \"RiskLevel\"]=\"High\"\n",
    "\n",
    "df_fda['RiskLevel'].value_counts()"
   ]
  },
  {
   "cell_type": "code",
   "execution_count": 23,
   "id": "3e0bcef9",
   "metadata": {
    "pycharm": {
     "name": "#%%\n"
    }
   },
   "outputs": [
    {
     "name": "stdout",
     "output_type": "stream",
     "text": [
      "Total Number of Reaction Categories:  13851\n",
      "average of the times reported:  1315.24741895892\n",
      "High number of times reported:  256552\n",
      "Lowest number of times reported:  1\n",
      "Wall time: 948 ms\n"
     ]
    }
   ],
   "source": [
    "%%time\n",
    "topReactions = df_fda['reactionmedrapt'].value_counts()\n",
    "\n",
    "print(\"Total Number of Reaction Categories: \", len(topReactions))\n",
    "print(\"average of the times reported: \",np.mean(topReactions))\n",
    "print(\"High number of times reported: \", max(topReactions))\n",
    "print(\"Lowest number of times reported: \", min(topReactions))"
   ]
  },
  {
   "cell_type": "code",
   "execution_count": 24,
   "id": "d6c23ce8",
   "metadata": {
    "pycharm": {
     "name": "#%%\n"
    }
   },
   "outputs": [
    {
     "name": "stdout",
     "output_type": "stream",
     "text": [
      "Wall time: 1.99 ms\n"
     ]
    },
    {
     "data": {
      "text/plain": [
       "['Diarrhoea',\n",
       " 'Nausea',\n",
       " 'Dyspnoea',\n",
       " 'Fatigue',\n",
       " 'Pyrexia',\n",
       " 'Pneumonia',\n",
       " 'Vomiting',\n",
       " 'Headache',\n",
       " 'Acute kidney injury',\n",
       " 'Off label use',\n",
       " 'Death']"
      ]
     },
     "execution_count": 24,
     "metadata": {},
     "output_type": "execute_result"
    }
   ],
   "source": [
    "%%time\n",
    "\n",
    "#list of most commonly reported reactions\n",
    "topReactions = topReactions[:10]\n",
    "topReactions = topReactions.index\n",
    "topReactions = list(topReactions)\n",
    "topReactions.append('Death')\n",
    "topReactions"
   ]
  },
  {
   "cell_type": "code",
   "execution_count": 25,
   "id": "a5b21c7f",
   "metadata": {
    "pycharm": {
     "name": "#%%\n"
    }
   },
   "outputs": [],
   "source": [
    "# %%time\n",
    "# #filter the list by topReactions\n",
    "# df_fda = df_fda[df_fda['reactionmedrapt'].isin(topReactions)]\n",
    "# df_fda.info()"
   ]
  },
  {
   "cell_type": "code",
   "execution_count": 26,
   "id": "297956ef",
   "metadata": {},
   "outputs": [
    {
     "data": {
      "text/plain": [
       "Index(['safetyreportid', 'serious', 'occurcountry',\n",
       "       'seriousnesshospitalization', 'primarysource.qualification',\n",
       "       'patient.patientonsetage', 'patient.patientweight',\n",
       "       'patient.patientsex', 'seriousnessother', 'seriousnesslifethreatening',\n",
       "       'seriousnessdeath', 'seriousnesscongenitalanomali',\n",
       "       'seriousnessdisabling', 'reactionmedrapt', 'medicinalproduct',\n",
       "       'RiskLevel'],\n",
       "      dtype='object')"
      ]
     },
     "execution_count": 26,
     "metadata": {},
     "output_type": "execute_result"
    }
   ],
   "source": [
    "df_fda.columns"
   ]
  },
  {
   "cell_type": "code",
   "execution_count": 27,
   "id": "bd9a2a58",
   "metadata": {
    "pycharm": {
     "name": "#%%\n"
    }
   },
   "outputs": [
    {
     "name": "stdout",
     "output_type": "stream",
     "text": [
      "<class 'pandas.core.frame.DataFrame'>\n",
      "DatetimeIndex: 11038223 entries, 2016-01-27 to 2020-11-25\n",
      "Data columns (total 16 columns):\n",
      " #   Column                        Dtype \n",
      "---  ------                        ----- \n",
      " 0   safetyreportid                object\n",
      " 1   serious                       int64 \n",
      " 2   occurcountry                  object\n",
      " 3   seriousnesshospitalization    bool  \n",
      " 4   primarysource.qualification   int64 \n",
      " 5   patient.patientonsetage       int32 \n",
      " 6   patient.patientweight         int32 \n",
      " 7   patient.patientsex            int32 \n",
      " 8   seriousnessother              bool  \n",
      " 9   seriousnesslifethreatening    bool  \n",
      " 10  seriousnessdeath              bool  \n",
      " 11  seriousnesscongenitalanomali  bool  \n",
      " 12  seriousnessdisabling          bool  \n",
      " 13  reactionmedrapt               object\n",
      " 14  medicinalproduct              object\n",
      " 15  RiskLevel                     object\n",
      "dtypes: bool(6), int32(3), int64(2), object(5)\n",
      "memory usage: 863.2+ MB\n"
     ]
    }
   ],
   "source": [
    "topMeds = df_fda['medicinalproduct'].value_counts()\n",
    "topMeds = topMeds[:500]\n",
    "topMeds = topMeds.index\n",
    "df_fda = df_fda[df_fda['medicinalproduct'].isin(topMeds)]\n",
    "df_fda.info()"
   ]
  },
  {
   "cell_type": "code",
   "execution_count": 28,
   "id": "a6fa8aac",
   "metadata": {
    "pycharm": {
     "name": "#%%\n"
    }
   },
   "outputs": [],
   "source": [
    "\n",
    "\n",
    "#Create a variable to use a boolean for the medication used\n",
    "df_fda['observation'] = 1\n",
    "\n",
    "#transform to sparse matrix using a pivot table\n",
    "df_fda = df_fda.pivot_table(index=['safetyreportid', 'serious', 'receiptdate', 'occurcountry',\n",
    "       'seriousnesshospitalization', 'primarysource.qualification',\n",
    "       'patient.patientonsetage', 'patient.patientweight',\n",
    "       'patient.patientsex', 'seriousnessother', 'seriousnesslifethreatening',\n",
    "       'seriousnessdeath', 'seriousnesscongenitalanomali',\n",
    "       'seriousnessdisabling', 'reactionmedrapt', 'RiskLevel'], columns='medicinalproduct', values='observation', fill_value=0).reset_index()"
   ]
  },
  {
   "cell_type": "code",
   "execution_count": 29,
   "id": "7888c0ca",
   "metadata": {
    "pycharm": {
     "name": "#%%\n"
    }
   },
   "outputs": [],
   "source": [
    "# df_fda['reactionmedrapt'].value_counts(normalize=True)"
   ]
  },
  {
   "cell_type": "code",
   "execution_count": 30,
   "id": "fc7e1caa",
   "metadata": {},
   "outputs": [],
   "source": [
    "df_fda['reactionmedrapt']=df_fda['reactionmedrapt'].astype(\"category\") #convert ractions to category\n",
    "df_fda['RiskLevel'] = df_fda['RiskLevel'].astype(\"category\")"
   ]
  },
  {
   "cell_type": "code",
   "execution_count": 39,
   "id": "01ae8511",
   "metadata": {
    "pycharm": {
     "name": "#%%\n"
    }
   },
   "outputs": [
    {
     "name": "stdout",
     "output_type": "stream",
     "text": [
      "                 precision    recall  f1-score   support\n",
      "\n",
      "           High    0.30264   0.28670   0.29446     96871\n",
      "       Low Risk    0.36614   0.52762   0.43230     70590\n",
      "    Medium High    0.54103   0.53833   0.53968    270675\n",
      "Medium Low Risk    0.42393   0.35213   0.38471    151524\n",
      "    Medium Risk    0.25660   0.45405   0.32790      1284\n",
      "\n",
      "       accuracy                        0.44787    590944\n",
      "      macro avg    0.37807   0.43177   0.39581    590944\n",
      "   weighted avg    0.45042   0.44787   0.44646    590944\n",
      "\n"
     ]
    },
    {
     "data": {
      "image/png": "[encoded data removed]",
      "text/plain": [
       "<Figure size 432x288 with 2 Axes>"
      ]
     },
     "metadata": {
      "needs_background": "light"
     },
     "output_type": "display_data"
    }
   ],
   "source": [
    "#create a model data frame from main data\n",
    "modelData = df_fda.iloc[:,np.r_[15,6:9,16:516]]\n",
    "#create Train and sample data sets\n",
    "dfTrain, dfTest = train_test_split(modelData, test_size=.33, random_state=19, shuffle=True)\n",
    "\n",
    "#Create training variables X represents independet variable and y the risk level being predicted\n",
    "x_train = dfTrain.iloc[:,1:]\n",
    "y_train = dfTrain.iloc[:,0]\n",
    "x_test = dfTest.iloc[:,1:]\n",
    "y_test = dfTest.iloc[:,0]\n",
    "\n",
    "nb = MultinomialNB()\n",
    "\n",
    "nb.fit(x_train, y_train)\n",
    "y_pred = nb.predict(x_test)\n",
    "\n",
    "# sns.heatmap(confusion_matrix(y_train,nb.predict(x_train)))\n",
    "# print(classification_report(y_train,nb.predict(x_train), digits=5))\n",
    "\n",
    "cm = confusion_matrix(y_test, y_pred)\n",
    "disp = ConfusionMatrixDisplay(cm, display_labels=nb.classes_)\n",
    "disp.plot()\n",
    "print(classification_report(y_test, y_pred, digits=5))"
   ]
  },
  {
   "cell_type": "code",
   "execution_count": 40,
   "id": "874ccb12",
   "metadata": {
    "pycharm": {
     "name": "#%%\n"
    }
   },
   "outputs": [
    {
     "name": "stdout",
     "output_type": "stream",
     "text": [
      "                 precision    recall  f1-score   support\n",
      "\n",
      "           High    0.95424   0.92118   0.93742     96871\n",
      "       Low Risk    0.91252   0.87786   0.89485     70590\n",
      "    Medium High    0.93108   0.96321   0.94688    270675\n",
      "Medium Low Risk    0.93021   0.91001   0.92000    151524\n",
      "    Medium Risk    0.89449   0.88474   0.88958      1284\n",
      "\n",
      "       accuracy                        0.93232    590944\n",
      "      macro avg    0.92451   0.91140   0.91775    590944\n",
      "   weighted avg    0.93236   0.93232   0.93210    590944\n",
      "\n"
     ]
    },
    {
     "data": {
      "image/png": "[encoded data removed]",
      "text/plain": [
       "<Figure size 432x288 with 2 Axes>"
      ]
     },
     "metadata": {
      "needs_background": "light"
     },
     "output_type": "display_data"
    }
   ],
   "source": [
    "from sklearn.ensemble import RandomForestClassifier\n",
    "\n",
    "rf_clf = RandomForestClassifier()\n",
    "\n",
    "rf_clf.fit(x_train, y_train)\n",
    "y_pred = rf_clf.predict(x_test)\n",
    "\n",
    "# sns.heatmap(confusion_matrix(y_train,rf_clf.predict(x_train),annot=True, xticklabels=True, yticklabels=True))\n",
    "# print(classification_report(y_train,rf_clf.predict(x_train), digits=5))\n",
    "\n",
    "cm = confusion_matrix(y_test, y_pred)\n",
    "disp = ConfusionMatrixDisplay(cm, display_labels=nb.classes_)\n",
    "disp.plot()\n",
    "print(classification_report(y_test, y_pred, digits=5))"
   ]
  },
  {
   "cell_type": "markdown",
   "id": "c2f3e56c",
   "metadata": {
    "pycharm": {
     "name": "#%% md\n"
    }
   },
   "source": [
    "### Modeling 2"
   ]
  },
  {
   "cell_type": "code",
   "execution_count": 72,
   "id": "36b22ec0",
   "metadata": {
    "pycharm": {
     "name": "#%%\n"
    }
   },
   "outputs": [
    {
     "name": "stdout",
     "output_type": "stream",
     "text": [
      "load train:  0:01:20.913011\n"
     ]
    }
   ],
   "source": [
    "# reload and clean fresh copy of data\n",
    "# claer existing DF for smoother load\n",
    "df_fda_time = pd.DataFrame(None)\n",
    "\n",
    "# read in consolidated df created in\n",
    "t=time.time()\n",
    "\n",
    "pathToData = 'X://consolidatedData.csv'\n",
    "\n",
    "df_fda = dd.read_csv(pathToData,dtype={'authoritynumb': 'object',\n",
    "       'patient.patientagegroup': 'float64',\n",
    "       'patient.patientonsetage': 'float64',\n",
    "       'patient.patientonsetageunit': 'float64',\n",
    "       'patient.patientsex': 'float64',\n",
    "       'seriousnesshospitalization': 'float64',\n",
    "       'safetyreportid': 'object',\n",
    "       'medicinalproduct':'object',\n",
    "        'reactionmedrapt':'object'})\n",
    "\n",
    "df_fda=df_fda.compute()\n",
    "\n",
    "print(\"load train: \" , str(datetime.timedelta(seconds=time.time()-t)))"
   ]
  },
  {
   "cell_type": "code",
   "execution_count": 73,
   "id": "1228cf48",
   "metadata": {
    "pycharm": {
     "name": "#%%\n"
    }
   },
   "outputs": [
    {
     "name": "stdout",
     "output_type": "stream",
     "text": [
      "Wall time: 1min 8s\n"
     ]
    }
   ],
   "source": [
    "%%time\n",
    "\n",
    "df_fda = df_fda.drop(columns = ['authoritynumb', 'companynumb','reportduplicate.duplicatesource',\n",
    "                                'patient.patientonsetageunit','patient.patientagegroup','primarysourcecountry','V1','index', 'receiver'])\n",
    "\n",
    "# filter out all 2 and 3's from primarysource.qualification\n",
    "# df_fda = df_fda[df_fda.primarysource.qualification != 1]\n",
    "\n",
    "# drop health professionals\n",
    "#df_fda = df_fda.drop(columns = 'primarysource.qualification')\n",
    "\n",
    "# replace nan ages with -1\n",
    "df_fda['patient.patientonsetage'] = df_fda['patient.patientonsetage'].fillna(-1)\n",
    "# filter ages drop every age over 115 (probably reporting anomalies)\n",
    "df_fda = df_fda.loc[df_fda['patient.patientonsetage'] < 115]\n",
    "# convert ages to ints\n",
    "df_fda['patient.patientonsetage'] = df_fda['patient.patientonsetage'].astype(int)\n",
    "\n",
    "# replace nan weights with -1\n",
    "df_fda['patient.patientweight'] = df_fda['patient.patientweight'].fillna(-1)\n",
    "# filter weights drop every weight over 635kg (the heaviest man ever) (probably reporting anomalies)\n",
    "df_fda = df_fda.loc[df_fda['patient.patientweight'] < 635]\n",
    "# converting to int where floats aren't needed\n",
    "df_fda['patient.patientweight'] = df_fda['patient.patientweight'].astype(int)\n",
    "\n",
    "# replace nan sex with -1\n",
    "df_fda['patient.patientsex'] = df_fda['patient.patientsex'].fillna(-1)\n",
    "# converting to int where floats aren't needed\n",
    "df_fda['patient.patientsex'] = df_fda['patient.patientsex'].astype(int)\n",
    "\n",
    "# convert potential bool values\n",
    "# fill nan with 0\n",
    "# big caveat with these conversions FALSE could indicate UNREPORTED data not just FALSE\n",
    "df_fda[['seriousnesshospitalization', 'seriousnessother','seriousnesslifethreatening', 'seriousnessdeath',\n",
    "       'seriousnesscongenitalanomali', 'seriousnessdisabling']] = \\\n",
    "       df_fda[['seriousnesshospitalization', 'seriousnessother','seriousnesslifethreatening', 'seriousnessdeath',\n",
    "              'seriousnesscongenitalanomali', 'seriousnessdisabling']].fillna(0)\n",
    "\n",
    "# convert 1/0 columns to bol\n",
    "df_fda[['seriousnesshospitalization', 'seriousnessother','seriousnesslifethreatening', 'seriousnessdeath',\n",
    "       'seriousnesscongenitalanomali', 'seriousnessdisabling']] = \\\n",
    "       df_fda[['seriousnesshospitalization', 'seriousnessother','seriousnesslifethreatening', 'seriousnessdeath',\n",
    "              'seriousnesscongenitalanomali', 'seriousnessdisabling']].astype('bool')\n",
    "\n",
    "# convert receipt date to datetime\n",
    "df_fda['receiptdate'] = pd.to_datetime(df_fda['receiptdate'],format='%Y%m%d')\n",
    "df_fda['receiptdate'] = df_fda['receiptdate'].dt.date"
   ]
  },
  {
   "cell_type": "code",
   "execution_count": 74,
   "id": "20ed7e6f",
   "metadata": {
    "pycharm": {
     "name": "#%%\n"
    }
   },
   "outputs": [
    {
     "name": "stdout",
     "output_type": "stream",
     "text": [
      "<class 'pandas.core.frame.DataFrame'>\n",
      "Int64Index: 18217492 entries, 0 to 207749\n",
      "Data columns (total 12 columns):\n",
      " #   Column                        Dtype \n",
      "---  ------                        ----- \n",
      " 0   serious                       int64 \n",
      " 1   occurcountry                  object\n",
      " 2   seriousnesshospitalization    bool  \n",
      " 3   patient.patientonsetage       int32 \n",
      " 4   patient.patientweight         int32 \n",
      " 5   patient.patientsex            int32 \n",
      " 6   seriousnessother              bool  \n",
      " 7   seriousnesslifethreatening    bool  \n",
      " 8   seriousnessdeath              bool  \n",
      " 9   seriousnesscongenitalanomali  bool  \n",
      " 10  seriousnessdisabling          bool  \n",
      " 11  medicinalproduct              object\n",
      "dtypes: bool(6), int32(3), int64(1), object(2)\n",
      "memory usage: 868.7+ MB\n"
     ]
    }
   ],
   "source": [
    "# drop some more data for this round of modeling\n",
    "\n",
    "df_fda = df_fda.drop(columns = 'primarysource.qualification')\n",
    "df_fda = df_fda.drop(columns = 'receiptdate')\n",
    "df_fda = df_fda.drop(columns = 'safetyreportid')\n",
    "df_fda = df_fda.drop(columns = 'reactionmedrapt')\n",
    "\n",
    "# clean negatives\n",
    "df_fda = df_fda.loc[df_fda['patient.patientweight'] > 0]\n",
    "df_fda = df_fda.loc[df_fda['patient.patientonsetage'] > 0]\n",
    "df_fda = df_fda.loc[df_fda['patient.patientsex'] > 0]\n",
    "\n",
    "df_fda.info()"
   ]
  },
  {
   "cell_type": "code",
   "execution_count": 75,
   "id": "97feb80c",
   "metadata": {
    "pycharm": {
     "name": "#%%\n"
    }
   },
   "outputs": [
    {
     "name": "stdout",
     "output_type": "stream",
     "text": [
      "<class 'pandas.core.frame.DataFrame'>\n",
      "Index: 1000 entries, REMODULIN to REMICADE\n",
      "Data columns (total 12 columns):\n",
      " #   Column                        Non-Null Count  Dtype \n",
      "---  ------                        --------------  ----- \n",
      " 0   serious                       1000 non-null   int64 \n",
      " 1   occurcountry                  998 non-null    object\n",
      " 2   seriousnesshospitalization    1000 non-null   bool  \n",
      " 3   patient.patientonsetage       1000 non-null   int32 \n",
      " 4   patient.patientweight         1000 non-null   int32 \n",
      " 5   patient.patientsex            1000 non-null   int32 \n",
      " 6   seriousnessother              1000 non-null   bool  \n",
      " 7   seriousnesslifethreatening    1000 non-null   bool  \n",
      " 8   seriousnessdeath              1000 non-null   bool  \n",
      " 9   seriousnesscongenitalanomali  1000 non-null   bool  \n",
      " 10  seriousnessdisabling          1000 non-null   bool  \n",
      " 11  medicinalproduct              1000 non-null   object\n",
      "dtypes: bool(6), int32(3), int64(1), object(2)\n",
      "memory usage: 48.8+ KB\n"
     ]
    }
   ],
   "source": [
    "\n",
    "df_fda.groupby(by='medicinalproduct')\n",
    "\n",
    "sample = df_fda.sample(1000)\n",
    "sample.info()"
   ]
  },
  {
   "cell_type": "code",
   "execution_count": 71,
   "id": "d31c9be0",
   "metadata": {
    "pycharm": {
     "name": "#%%\n"
    }
   },
   "outputs": [
    {
     "data": {
      "text/html": [
       "<div>\n",
       "<style scoped>\n",
       "    .dataframe tbody tr th:only-of-type {\n",
       "        vertical-align: middle;\n",
       "    }\n",
       "\n",
       "    .dataframe tbody tr th {\n",
       "        vertical-align: top;\n",
       "    }\n",
       "\n",
       "    .dataframe thead th {\n",
       "        text-align: right;\n",
       "    }\n",
       "</style>\n",
       "<table border=\"1\" class=\"dataframe\">\n",
       "  <thead>\n",
       "    <tr style=\"text-align: right;\">\n",
       "      <th></th>\n",
       "      <th>serious</th>\n",
       "      <th>occurcountry</th>\n",
       "      <th>seriousnesshospitalization</th>\n",
       "      <th>patient.patientonsetage</th>\n",
       "      <th>patient.patientweight</th>\n",
       "      <th>patient.patientsex</th>\n",
       "      <th>seriousnessother</th>\n",
       "      <th>seriousnesslifethreatening</th>\n",
       "      <th>seriousnessdeath</th>\n",
       "      <th>seriousnesscongenitalanomali</th>\n",
       "      <th>seriousnessdisabling</th>\n",
       "      <th>medicinalproduct</th>\n",
       "    </tr>\n",
       "    <tr>\n",
       "      <th>medicinalproduct</th>\n",
       "      <th></th>\n",
       "      <th></th>\n",
       "      <th></th>\n",
       "      <th></th>\n",
       "      <th></th>\n",
       "      <th></th>\n",
       "      <th></th>\n",
       "      <th></th>\n",
       "      <th></th>\n",
       "      <th></th>\n",
       "      <th></th>\n",
       "      <th></th>\n",
       "    </tr>\n",
       "  </thead>\n",
       "  <tbody>\n",
       "    <tr>\n",
       "      <th>NIVOLUMAB</th>\n",
       "      <td>1</td>\n",
       "      <td>CN</td>\n",
       "      <td>True</td>\n",
       "      <td>53</td>\n",
       "      <td>-1</td>\n",
       "      <td>1</td>\n",
       "      <td>True</td>\n",
       "      <td>False</td>\n",
       "      <td>True</td>\n",
       "      <td>False</td>\n",
       "      <td>False</td>\n",
       "      <td>NIVOLUMAB</td>\n",
       "    </tr>\n",
       "    <tr>\n",
       "      <th>MANNITOL.</th>\n",
       "      <td>2</td>\n",
       "      <td>CN</td>\n",
       "      <td>False</td>\n",
       "      <td>43</td>\n",
       "      <td>-1</td>\n",
       "      <td>1</td>\n",
       "      <td>False</td>\n",
       "      <td>False</td>\n",
       "      <td>False</td>\n",
       "      <td>False</td>\n",
       "      <td>False</td>\n",
       "      <td>MANNITOL.</td>\n",
       "    </tr>\n",
       "    <tr>\n",
       "      <th>SODIUM CHLORIDE.</th>\n",
       "      <td>1</td>\n",
       "      <td>US</td>\n",
       "      <td>True</td>\n",
       "      <td>57</td>\n",
       "      <td>40</td>\n",
       "      <td>2</td>\n",
       "      <td>True</td>\n",
       "      <td>False</td>\n",
       "      <td>False</td>\n",
       "      <td>False</td>\n",
       "      <td>False</td>\n",
       "      <td>SODIUM CHLORIDE.</td>\n",
       "    </tr>\n",
       "    <tr>\n",
       "      <th>TOPAMAX</th>\n",
       "      <td>2</td>\n",
       "      <td>US</td>\n",
       "      <td>False</td>\n",
       "      <td>56</td>\n",
       "      <td>-1</td>\n",
       "      <td>2</td>\n",
       "      <td>False</td>\n",
       "      <td>False</td>\n",
       "      <td>False</td>\n",
       "      <td>False</td>\n",
       "      <td>False</td>\n",
       "      <td>TOPAMAX</td>\n",
       "    </tr>\n",
       "    <tr>\n",
       "      <th>SERTRALINE</th>\n",
       "      <td>1</td>\n",
       "      <td>DE</td>\n",
       "      <td>True</td>\n",
       "      <td>70</td>\n",
       "      <td>-1</td>\n",
       "      <td>2</td>\n",
       "      <td>True</td>\n",
       "      <td>False</td>\n",
       "      <td>False</td>\n",
       "      <td>False</td>\n",
       "      <td>False</td>\n",
       "      <td>SERTRALINE</td>\n",
       "    </tr>\n",
       "  </tbody>\n",
       "</table>\n",
       "</div>"
      ],
      "text/plain": [
       "                  serious occurcountry  seriousnesshospitalization  \\\n",
       "medicinalproduct                                                     \n",
       "NIVOLUMAB               1           CN                        True   \n",
       "MANNITOL.               2           CN                       False   \n",
       "SODIUM CHLORIDE.        1           US                        True   \n",
       "TOPAMAX                 2           US                       False   \n",
       "SERTRALINE              1           DE                        True   \n",
       "\n",
       "                  patient.patientonsetage  patient.patientweight  \\\n",
       "medicinalproduct                                                   \n",
       "NIVOLUMAB                              53                     -1   \n",
       "MANNITOL.                              43                     -1   \n",
       "SODIUM CHLORIDE.                       57                     40   \n",
       "TOPAMAX                                56                     -1   \n",
       "SERTRALINE                             70                     -1   \n",
       "\n",
       "                  patient.patientsex  seriousnessother  \\\n",
       "medicinalproduct                                         \n",
       "NIVOLUMAB                          1              True   \n",
       "MANNITOL.                          1             False   \n",
       "SODIUM CHLORIDE.                   2              True   \n",
       "TOPAMAX                            2             False   \n",
       "SERTRALINE                         2              True   \n",
       "\n",
       "                  seriousnesslifethreatening  seriousnessdeath  \\\n",
       "medicinalproduct                                                 \n",
       "NIVOLUMAB                              False              True   \n",
       "MANNITOL.                              False             False   \n",
       "SODIUM CHLORIDE.                       False             False   \n",
       "TOPAMAX                                False             False   \n",
       "SERTRALINE                             False             False   \n",
       "\n",
       "                  seriousnesscongenitalanomali  seriousnessdisabling  \\\n",
       "medicinalproduct                                                       \n",
       "NIVOLUMAB                                False                 False   \n",
       "MANNITOL.                                False                 False   \n",
       "SODIUM CHLORIDE.                         False                 False   \n",
       "TOPAMAX                                  False                 False   \n",
       "SERTRALINE                               False                 False   \n",
       "\n",
       "                  medicinalproduct  \n",
       "medicinalproduct                    \n",
       "NIVOLUMAB                NIVOLUMAB  \n",
       "MANNITOL.                MANNITOL.  \n",
       "SODIUM CHLORIDE.  SODIUM CHLORIDE.  \n",
       "TOPAMAX                    TOPAMAX  \n",
       "SERTRALINE              SERTRALINE  "
      ]
     },
     "execution_count": 71,
     "metadata": {},
     "output_type": "execute_result"
    }
   ],
   "source": [
    "sample.head()"
   ]
  },
  {
   "cell_type": "code",
   "execution_count": null,
   "id": "09bd05ae",
   "metadata": {
    "pycharm": {
     "name": "#%%\n"
    }
   },
   "outputs": [],
   "source": []
  }
 ],
 "metadata": {
  "kernelspec": {
   "display_name": "Python 3 (ipykernel)",
   "language": "python",
   "name": "python3"
  },
  "language_info": {
   "codemirror_mode": {
    "name": "ipython",
    "version": 3
   },
   "file_extension": ".py",
   "mimetype": "text/x-python",
   "name": "python",
   "nbconvert_exporter": "python",
   "pygments_lexer": "ipython3",
   "version": "3.8.2"
  }
 },
 "nbformat": 4,
 "nbformat_minor": 5
}
